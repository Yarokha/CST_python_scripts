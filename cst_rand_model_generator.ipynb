{
 "cells": [
  {
   "cell_type": "code",
   "execution_count": 1,
   "metadata": {},
   "outputs": [],
   "source": [
    "from cst.interface import DesignEnvironment\n",
    "import numpy as np\n",
    "import random"
   ]
  },
  {
   "cell_type": "code",
   "execution_count": 2,
   "metadata": {},
   "outputs": [],
   "source": [
    "def sphere(name:str='Solid', com_name:str=\"component1\", material:str='PEC', axis:str='z', r_c:float|int=0, r_t:float|int=0, r_b:float|int|str=0, x:float|int|str=0, y:float|int|str=0, z:float|int|str=0, segments:int=0)-> str:\n",
    "     return \"\"\"With Sphere\n",
    "                    .Reset\n",
    "                    .Name \"\"\" +'\"'+ name +'\"'+ \"\"\"\n",
    "                    .Component \"\"\" +'\"'+ com_name +'\"'+ \"\"\"\n",
    "                    .Material \"\"\" +'\"'+ material +'\"'+ \"\"\"\n",
    "                    .Axis \"\"\" +'\"'+ axis +'\"'+ \"\"\"\n",
    "                    .CenterRadius \"\"\" +'\"'+ str(r_c) +'\"'+ \"\"\"\n",
    "                    .TopRadius \"\"\" +'\"'+ str(r_t) +'\"'+ \"\"\"\n",
    "                    .BottomRadius \"\"\" +'\"'+ str(r_b) +'\"'+ \"\"\"\n",
    "                    .Center \"\"\" +'\"'+ str(x) +'\"'+ \", \" +'\"'+ str(y) +'\"'+ \", \" +'\"'+ str(z) +'\"'+ \"\"\"\n",
    "                    .Segments \"\"\" +'\"'+ str(segments) +'\"'+ \"\"\"\n",
    "                    .Create\n",
    "               End With\"\"\"\n",
    "\n",
    "\n",
    "def check_dist(xyz_list: np.array, xyz: np.array)-> bool:\n",
    "    for coord in xyz_list:\n",
    "        if ((coord[:-1]-xyz[:-1])**2).sum()**0.5 < (coord[-1]+xyz[-1])/2:\n",
    "            return True\n",
    "    return False\n"
   ]
  },
  {
   "cell_type": "code",
   "execution_count": 3,
   "metadata": {},
   "outputs": [],
   "source": [
    "de = DesignEnvironment.new()\n",
    "cst_file = r\".\\CSTProject\\Project.cst\"\n",
    "prj = de.open_project(cst_file)"
   ]
  },
  {
   "cell_type": "code",
   "execution_count": 4,
   "metadata": {},
   "outputs": [],
   "source": [
    "d_nd = 530\n",
    "\n",
    "xyz_list = []\n",
    "i=0\n",
    "k=0\n",
    "while (i<10):\n",
    "    theta = random.random() * np.pi\n",
    "    phi = random.random() * 2*np.pi\n",
    "    r = random.random() * d_nd/2\n",
    "    r_c = random.randrange(20, 60) \n",
    "    x = (r-r_c) * np.sin(theta) * np.cos(phi)\n",
    "    y = (r-r_c)  * np.sin(theta) * np.sin(phi)\n",
    "    z = (r-r_c)  * np.cos(theta)\n",
    "    # is_over = check_dist(np.array(xyz_list), np.array([x,y,z, r_c*2]))\n",
    "    # if is_over:\n",
    "    #     continue\n",
    "    # xyz_list.append(np.array([x,y,z, r_c*2]))\n",
    "    i+=1\n",
    "    name = 'Si_'+str(i)\n",
    "    vba_script = sphere(r_c= r_c, com_name='NP', material=\"Material\", name=name,x=x, y=y, z=z)\n",
    "    prj.model3d.add_to_history(name, vba_script)"
   ]
  },
  {
   "cell_type": "code",
   "execution_count": 115,
   "metadata": {},
   "outputs": [
    {
     "data": {
      "text/plain": [
       "True"
      ]
     },
     "execution_count": 115,
     "metadata": {},
     "output_type": "execute_result"
    }
   ],
   "source": [
    "prj.save()"
   ]
  },
  {
   "cell_type": "code",
   "execution_count": null,
   "metadata": {},
   "outputs": [],
   "source": [
    "prj.model3d.start_solver()"
   ]
  },
  {
   "cell_type": "code",
   "execution_count": null,
   "metadata": {},
   "outputs": [],
   "source": []
  }
 ],
 "metadata": {
  "kernelspec": {
   "display_name": "Python 3",
   "language": "python",
   "name": "python3"
  },
  "language_info": {
   "codemirror_mode": {
    "name": "ipython",
    "version": 3
   },
   "file_extension": ".py",
   "mimetype": "text/x-python",
   "name": "python",
   "nbconvert_exporter": "python",
   "pygments_lexer": "ipython3",
   "version": "3.10.9"
  }
 },
 "nbformat": 4,
 "nbformat_minor": 2
}
